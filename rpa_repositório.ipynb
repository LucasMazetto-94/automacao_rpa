{
 "cells": [
  {
   "cell_type": "markdown",
   "id": "55943503",
   "metadata": {},
   "source": [
    "### RPA com Python\n",
    "O que é RPA?\n",
    "\n",
    "Biblioteca usada:\n",
    "\n",
    "pip install pyautogui\n",
    "https://pyautogui.readthedocs.io/en/latest/\n",
    "Para os comandos de imagem pode ser que seja necessário instalar pip install pillow\n",
    "Para resolver problemas de caracteres especiais vamos usar um macete com a pyperclip\n",
    "Link com um resumo dos principais comandos: https://pyautogui.readthedocs.io/en/latest/quickstart.html"
   ]
  },
  {
   "cell_type": "markdown",
   "id": "a0dc9db3",
   "metadata": {},
   "source": [
    "## Desafio\n",
    "Vamos automatizar a extração de informações de um sistema e envio de um relatório por e-mail\n",
    "No nosso caso, para todo mundo conseguir fazer o mesmo programa, o nosso \"sistema\" vai ser o Gmail, mas o mesmo processo pode ser feito com qualquer programa do seu computador e qualquer sistema\n",
    "Passo 1: Entrar no sistema (entrar no Gmail)\n",
    "Passo 2: Entrar em uma aba específica do sistema onde tem o nosso relatório (Aba Contatos)\n",
    "Passo 3: Exportar o Relatório (Exportar Contatos)\n",
    "Passo 4: Pegar o relatório exportado, tratar e pegar as informações que queremos\n",
    "Passo 5: Preencher/Atualizar informações do sistema (No nosso caso, criar um e-mail e enviar)"
   ]
  },
  {
   "cell_type": "code",
   "execution_count": 1,
   "id": "edf91f8c",
   "metadata": {},
   "outputs": [],
   "source": [
    "import pyautogui\n",
    "import time\n",
    "# pyautogui.write() -> escreve\n",
    "# pyautogui.click ->cliica\n",
    "# pyautogui.LocateOnScreen -> Localiza imagem (Arquivo em PNG no mesmo local da Pasta do Código)\n",
    "# pyautogui.hotkey-> atalhos\n",
    "# pyautogui.press -> Aperta o Botão\n",
    "\n",
    "pyautogui.alert('O codigo está rodando, não mexa em nada enquanto estiver rodando')\n",
    "\n",
    "# abrir o navegador\n",
    "pyautogui.PAUSE = 1\n",
    "# aperta o windows no teclado\n",
    "pyautogui.press('win')\n",
    "# digitar Chrome\n",
    "pyautogui.write('chrome')\n",
    "# apertar Enter\n",
    "pyautogui.press('enter')\n",
    "\n",
    "# entrar no Gmail\n",
    "pyautogui.write('gmail  ')\n",
    "pyautogui.press('enter')\n",
    "\n",
    "# localizar a imagem -> Quatro informaçoes posiçao x, posiçao y, largura e altura\n",
    "x, y, largura, altura = pyautogui.locateOnScreen('busca google.png')\n",
    "# clicar no meio da imagem\n",
    "pyautogui.click(x + largura/2, y + altura/2)\n",
    "\n",
    "# esperar o gamil\n",
    "while not pyautogui.locateOnScreen('logo email.png'):\n",
    "    time.sleep(1)\n",
    "# entrar em contatos\n",
    "x, y, largura, altura = pyautogui.locateOnScreen('pontinhos.png')\n",
    "pyautogui.click(x + largura/2, y + altura/2)\n",
    "\n",
    "x, y, largura, altura = pyautogui.locateOnScreen('Contatos.png')\n",
    "pyautogui.click(x + largura/2, y + altura/2)\n",
    "\n",
    "# espera a tela contatos\n",
    "while not pyautogui.locateOnScreen('novo_contatos.png'):\n",
    "    time.sleep(3)\n",
    "\n",
    "# exportar os contatos\n",
    "pyautogui.click(x=92, y=577)\n",
    "\n",
    "# mudando para contato com email\n",
    "pyautogui.click(x=583, y=345)\n",
    "pyautogui.click(x=666, y=391)\n",
    "\n",
    "\n",
    "x, y, largura, altura = pyautogui.locateOnScreen('confirmar exportar.png')\n",
    "pyautogui.click(x + largura/2, y + altura/2)"
   ]
  },
  {
   "cell_type": "code",
   "execution_count": 2,
   "id": "1d605557",
   "metadata": {},
   "outputs": [
    {
     "data": {
      "text/html": [
       "<div>\n",
       "<style scoped>\n",
       "    .dataframe tbody tr th:only-of-type {\n",
       "        vertical-align: middle;\n",
       "    }\n",
       "\n",
       "    .dataframe tbody tr th {\n",
       "        vertical-align: top;\n",
       "    }\n",
       "\n",
       "    .dataframe thead th {\n",
       "        text-align: right;\n",
       "    }\n",
       "</style>\n",
       "<table border=\"1\" class=\"dataframe\">\n",
       "  <thead>\n",
       "    <tr style=\"text-align: right;\">\n",
       "      <th></th>\n",
       "      <th>Name</th>\n",
       "      <th>Given Name</th>\n",
       "      <th>Family Name</th>\n",
       "      <th>Group Membership</th>\n",
       "      <th>E-mail 1 - Type</th>\n",
       "      <th>E-mail 1 - Value</th>\n",
       "    </tr>\n",
       "  </thead>\n",
       "  <tbody>\n",
       "    <tr>\n",
       "      <th>0</th>\n",
       "      <td>@GehDrivecore ≠</td>\n",
       "      <td>@GehDrivecore</td>\n",
       "      <td>≠</td>\n",
       "      <td>* starred</td>\n",
       "      <td>* Other</td>\n",
       "      <td>angelicacps1@live.com</td>\n",
       "    </tr>\n",
       "    <tr>\n",
       "      <th>1</th>\n",
       "      <td>Larissa Teodoro</td>\n",
       "      <td>Larissa</td>\n",
       "      <td>Teodoro</td>\n",
       "      <td>* myContacts ::: * starred</td>\n",
       "      <td>* Other</td>\n",
       "      <td>lari.teodoro@gmail.com</td>\n",
       "    </tr>\n",
       "  </tbody>\n",
       "</table>\n",
       "</div>"
      ],
      "text/plain": [
       "              Name     Given Name Family Name            Group Membership  \\\n",
       "0  @GehDrivecore ≠  @GehDrivecore           ≠                   * starred   \n",
       "1  Larissa Teodoro        Larissa     Teodoro  * myContacts ::: * starred   \n",
       "\n",
       "  E-mail 1 - Type        E-mail 1 - Value  \n",
       "0         * Other   angelicacps1@live.com  \n",
       "1         * Other  lari.teodoro@gmail.com  "
      ]
     },
     "metadata": {},
     "output_type": "display_data"
    }
   ],
   "source": [
    "import pandas as pd\n",
    "import pyperclip\n",
    "\n",
    "df_contato = pd.read_csv(r'C://Users/lucas/Downloads/contacts.csv')\n",
    "df_contato = df_contato.dropna(axis=1)\n",
    "display(df_contato)\n"
   ]
  },
  {
   "cell_type": "code",
   "execution_count": 3,
   "id": "c8522933",
   "metadata": {},
   "outputs": [
    {
     "data": {
      "text/plain": [
       "'OK'"
      ]
     },
     "execution_count": 3,
     "metadata": {},
     "output_type": "execute_result"
    }
   ],
   "source": [
    "time.sleep(2)\n",
    "pyautogui.hotkey('ctrl', 'pgup')\n",
    "\n",
    "for email in df_contato['E-mail 1 - Value']:\n",
    "#     clicar no botão ecrever\n",
    "    pyautogui.click(x=76, y=195)\n",
    "    \n",
    "#     escreve o email e enter\n",
    "    pyautogui.write(email)\n",
    "    pyautogui.press('enter')\n",
    "#   mudar para o assunto do email\n",
    "    pyautogui.press('tab')\n",
    "    pyautogui.write('Teste Robo')\n",
    "#     escrever o email\n",
    "    pyautogui.press('tab')\n",
    "    texto = '''Fala Pessoal, estou fazendo um teste de automação.\n",
    "    não precisa se preocupar em abrir. Valeu'''\n",
    "    pyperclip.copy(texto)\n",
    "    pyautogui.hotkey('ctrl', 'v')\n",
    "    pyautogui.hotkey('ctrl', 'enter')\n",
    "    \n",
    "pyautogui.alert('O código terminou, pode pegar seu computador de volta')"
   ]
  }
 ],
 "metadata": {
  "kernelspec": {
   "display_name": "Python 3 (ipykernel)",
   "language": "python",
   "name": "python3"
  },
  "language_info": {
   "codemirror_mode": {
    "name": "ipython",
    "version": 3
   },
   "file_extension": ".py",
   "mimetype": "text/x-python",
   "name": "python",
   "nbconvert_exporter": "python",
   "pygments_lexer": "ipython3",
   "version": "3.9.12"
  }
 },
 "nbformat": 4,
 "nbformat_minor": 5
}
